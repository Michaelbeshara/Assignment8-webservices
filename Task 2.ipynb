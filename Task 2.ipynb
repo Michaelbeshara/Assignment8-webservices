{
 "cells": [
  {
   "cell_type": "code",
   "execution_count": 20,
   "metadata": {},
   "outputs": [],
   "source": [
    "import requests\n",
    "import csv\n",
    "import random"
   ]
  },
  {
   "cell_type": "code",
   "execution_count": 21,
   "metadata": {},
   "outputs": [
    {
     "data": {
      "text/plain": [
       "<Response [200]>"
      ]
     },
     "execution_count": 21,
     "metadata": {},
     "output_type": "execute_result"
    }
   ],
   "source": [
    "response = requests.get(\"https://www.metaweather.com/api/location/1521894/\")\n",
    "\n",
    "response"
   ]
  },
  {
   "cell_type": "code",
   "execution_count": 26,
   "metadata": {},
   "outputs": [
    {
     "data": {
      "text/plain": [
       "[{'id': 4565187731390464,\n",
       "  'weather_state_name': 'Clear',\n",
       "  'weather_state_abbr': 'c',\n",
       "  'wind_direction_compass': 'N',\n",
       "  'created': '2022-03-18T07:34:22.546683Z',\n",
       "  'applicable_date': '2022-03-18',\n",
       "  'min_temp': 9.065000000000001,\n",
       "  'max_temp': 23.595,\n",
       "  'the_temp': 20.365000000000002,\n",
       "  'wind_speed': 5.956247085214348,\n",
       "  'wind_direction': 9.854308571013986,\n",
       "  'air_pressure': 1021.5,\n",
       "  'humidity': 46,\n",
       "  'visibility': 12.933841366420106,\n",
       "  'predictability': 68},\n",
       " {'id': 5131269143789568,\n",
       "  'weather_state_name': 'Light Cloud',\n",
       "  'weather_state_abbr': 'lc',\n",
       "  'wind_direction_compass': 'N',\n",
       "  'created': '2022-03-18T07:34:25.847160Z',\n",
       "  'applicable_date': '2022-03-19',\n",
       "  'min_temp': 9.190000000000001,\n",
       "  'max_temp': 23.53,\n",
       "  'the_temp': 20.705,\n",
       "  'wind_speed': 7.505170366576528,\n",
       "  'wind_direction': 9.307864243737441,\n",
       "  'air_pressure': 1019.0,\n",
       "  'humidity': 43,\n",
       "  'visibility': 13.255400958402927,\n",
       "  'predictability': 70},\n",
       " {'id': 5889094950322176,\n",
       "  'weather_state_name': 'Heavy Cloud',\n",
       "  'weather_state_abbr': 'hc',\n",
       "  'wind_direction_compass': 'NE',\n",
       "  'created': '2022-03-18T07:34:28.660744Z',\n",
       "  'applicable_date': '2022-03-20',\n",
       "  'min_temp': 9.15,\n",
       "  'max_temp': 20.799999999999997,\n",
       "  'the_temp': 18.64,\n",
       "  'wind_speed': 9.374158754654154,\n",
       "  'wind_direction': 47.9892738859367,\n",
       "  'air_pressure': 1017.0,\n",
       "  'humidity': 47,\n",
       "  'visibility': 13.076446055038575,\n",
       "  'predictability': 71},\n",
       " {'id': 5200161123860480,\n",
       "  'weather_state_name': 'Heavy Cloud',\n",
       "  'weather_state_abbr': 'hc',\n",
       "  'wind_direction_compass': 'NE',\n",
       "  'created': '2022-03-18T07:34:31.572793Z',\n",
       "  'applicable_date': '2022-03-21',\n",
       "  'min_temp': 10.315,\n",
       "  'max_temp': 18.61,\n",
       "  'the_temp': 17.685,\n",
       "  'wind_speed': 9.380031335584189,\n",
       "  'wind_direction': 35.0,\n",
       "  'air_pressure': 1014.0,\n",
       "  'humidity': 49,\n",
       "  'visibility': 12.601097092977014,\n",
       "  'predictability': 71},\n",
       " {'id': 5254564904173568,\n",
       "  'weather_state_name': 'Light Cloud',\n",
       "  'weather_state_abbr': 'lc',\n",
       "  'wind_direction_compass': 'NW',\n",
       "  'created': '2022-03-18T07:34:34.549451Z',\n",
       "  'applicable_date': '2022-03-22',\n",
       "  'min_temp': 8.35,\n",
       "  'max_temp': 19.05,\n",
       "  'the_temp': 16.32,\n",
       "  'wind_speed': 10.229942131116944,\n",
       "  'wind_direction': 308.21135840084503,\n",
       "  'air_pressure': 1016.5,\n",
       "  'humidity': 44,\n",
       "  'visibility': 11.788032887934463,\n",
       "  'predictability': 70},\n",
       " {'id': 5237050061094912,\n",
       "  'weather_state_name': 'Clear',\n",
       "  'weather_state_abbr': 'c',\n",
       "  'wind_direction_compass': 'WNW',\n",
       "  'created': '2022-03-18T07:34:38.164853Z',\n",
       "  'applicable_date': '2022-03-23',\n",
       "  'min_temp': 8.15,\n",
       "  'max_temp': 19.634999999999998,\n",
       "  'the_temp': 15.73,\n",
       "  'wind_speed': 6.294027081842042,\n",
       "  'wind_direction': 299.5,\n",
       "  'air_pressure': 1020.0,\n",
       "  'humidity': 40,\n",
       "  'visibility': 9.999726596675416,\n",
       "  'predictability': 68}]"
      ]
     },
     "execution_count": 26,
     "metadata": {},
     "output_type": "execute_result"
    }
   ],
   "source": [
    "weather = response.json()\n",
    "\n",
    "weather['consolidated_weather']"
   ]
  },
  {
   "cell_type": "code",
   "execution_count": 23,
   "metadata": {},
   "outputs": [
    {
     "data": {
      "text/plain": [
       "'2022-03-18'"
      ]
     },
     "execution_count": 23,
     "metadata": {},
     "output_type": "execute_result"
    }
   ],
   "source": [
    "dates = []\n",
    "\n",
    "for e in weather['consolidated_weather']:\n",
    "    dates.append(e['applicable_date'])\n",
    "\n",
    "day_1 , day_2 , day_3 = random.choices(dates, k=3)\n",
    "\n",
    "day_1"
   ]
  },
  {
   "cell_type": "code",
   "execution_count": 27,
   "metadata": {},
   "outputs": [
    {
     "data": {
      "text/plain": [
       "[{'id': 4565187731390464,\n",
       "  'weather_state_name': 'Clear',\n",
       "  'weather_state_abbr': 'c',\n",
       "  'wind_direction_compass': 'N',\n",
       "  'created': '2022-03-18T07:34:22.546683Z',\n",
       "  'applicable_date': '2022-03-18',\n",
       "  'min_temp': 9.065000000000001,\n",
       "  'max_temp': 23.595,\n",
       "  'the_temp': 20.365000000000002,\n",
       "  'wind_speed': 5.956247085214348,\n",
       "  'wind_direction': 9.854308571013986,\n",
       "  'air_pressure': 1021.5,\n",
       "  'humidity': 46,\n",
       "  'visibility': 12.933841366420106,\n",
       "  'predictability': 68},\n",
       " {'id': 5254564904173568,\n",
       "  'weather_state_name': 'Light Cloud',\n",
       "  'weather_state_abbr': 'lc',\n",
       "  'wind_direction_compass': 'NW',\n",
       "  'created': '2022-03-18T07:34:34.549451Z',\n",
       "  'applicable_date': '2022-03-22',\n",
       "  'min_temp': 8.35,\n",
       "  'max_temp': 19.05,\n",
       "  'the_temp': 16.32,\n",
       "  'wind_speed': 10.229942131116944,\n",
       "  'wind_direction': 308.21135840084503,\n",
       "  'air_pressure': 1016.5,\n",
       "  'humidity': 44,\n",
       "  'visibility': 11.788032887934463,\n",
       "  'predictability': 70},\n",
       " {'id': 5237050061094912,\n",
       "  'weather_state_name': 'Clear',\n",
       "  'weather_state_abbr': 'c',\n",
       "  'wind_direction_compass': 'WNW',\n",
       "  'created': '2022-03-18T07:34:38.164853Z',\n",
       "  'applicable_date': '2022-03-23',\n",
       "  'min_temp': 8.15,\n",
       "  'max_temp': 19.634999999999998,\n",
       "  'the_temp': 15.73,\n",
       "  'wind_speed': 6.294027081842042,\n",
       "  'wind_direction': 299.5,\n",
       "  'air_pressure': 1020.0,\n",
       "  'humidity': 40,\n",
       "  'visibility': 9.999726596675416,\n",
       "  'predictability': 68}]"
      ]
     },
     "execution_count": 27,
     "metadata": {},
     "output_type": "execute_result"
    }
   ],
   "source": [
    "weathers = []\n",
    "\n",
    "for e in weather['consolidated_weather']:\n",
    "    if e['applicable_date'] in [day_1 , day_2 , day_3]:\n",
    "        weathers.append(e)\n",
    "\n",
    "weathers"
   ]
  },
  {
   "cell_type": "code",
   "execution_count": 29,
   "metadata": {},
   "outputs": [],
   "source": [
    "with open('weather.csv', 'w', newline='') as f:\n",
    "    writer = csv.DictWriter(f, fieldnames=['weather temperature', 'humidity', 'visibility', 'air pressure', 'wind speed' , 'datetime'])\n",
    "    writer.writeheader() # Inserting column names at the start\n",
    "\n",
    "    for e in weathers:\n",
    "        temp = e['the_temp']\n",
    "        humidity = e['humidity']\n",
    "        visibility = e['visibility']\n",
    "        air_press = e['air_pressure']\n",
    "        wind = e['wind_speed']\n",
    "        date_ = e['applicable_date']\n",
    "        \n",
    "        writer.writerow(\n",
    "            {\n",
    "                'weather temperature' : temp,\n",
    "                'humidity' : humidity,\n",
    "                'visibility' : visibility,\n",
    "                'air pressure' : air_press,\n",
    "                'wind speed' : wind,\n",
    "                'datetime' : date_\n",
    "\n",
    "            }\n",
    "        )"
   ]
  },
  {
   "cell_type": "code",
   "execution_count": null,
   "metadata": {},
   "outputs": [],
   "source": []
  }
 ],
 "metadata": {
  "interpreter": {
   "hash": "54e72497fd64358f52832107e3cdfaf9f975ee2964d8f26ed128ba56fc24de73"
  },
  "kernelspec": {
   "display_name": "Python 3.8.8 ('base')",
   "language": "python",
   "name": "python3"
  },
  "language_info": {
   "codemirror_mode": {
    "name": "ipython",
    "version": 3
   },
   "file_extension": ".py",
   "mimetype": "text/x-python",
   "name": "python",
   "nbconvert_exporter": "python",
   "pygments_lexer": "ipython3",
   "version": "3.8.8"
  },
  "orig_nbformat": 4
 },
 "nbformat": 4,
 "nbformat_minor": 2
}
